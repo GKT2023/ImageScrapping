{
 "cells": [
  {
   "cell_type": "code",
   "execution_count": 6,
   "metadata": {},
   "outputs": [],
   "source": [
    "import requests  ## request from html  pages\n",
    "import logging ## provide log\n",
    "import os  ## for creating and removing dirs, fetching its content , changing and identifying current dir\n",
    "from bs4 import BeautifulSoup  ## beautifulsoup is use to scrap data from html or xml pages\n",
    "from urllib.request import urlopen  ## urllib is used to request something from web server"
   ]
  },
  {
   "cell_type": "code",
   "execution_count": 9,
   "metadata": {},
   "outputs": [],
   "source": [
    "## create a directory and save all those images in the directories\n",
    "save_dir = 'images/'  ## save imagesv in images folder\n",
    "\n",
    "## if this dir is notexist create one \n",
    "\n",
    "if not os.path.exists(save_dir):\n",
    "    os.makedirs(save_dir)\n",
    "\n",
    "\n"
   ]
  },
  {
   "cell_type": "code",
   "execution_count": 39,
   "metadata": {},
   "outputs": [],
   "source": [
    "query = \"virah kohli\"\n",
    "url = f'https://www.google.com/search?q={query}&sca_esv=596307649&rlz=1C1YTUH_enIN1066IN1066&tbm=isch&sxsrf=AM9HkKlyHx1HRo2pn9sZxh_Hnpl27Ylocg:1704605608723&source=lnms&sa=X&sqi=2&ved=2ahUKEwjT06jexsqDAxUSzDgGHa7hAc0Q_AUoAnoECAMQBA&biw=940&bih=728&dpr=1.25'"
   ]
  },
  {
   "cell_type": "code",
   "execution_count": 40,
   "metadata": {},
   "outputs": [],
   "source": [
    "## hit this url using requests module\n",
    "response = requests.get(url)"
   ]
  },
  {
   "cell_type": "code",
   "execution_count": 41,
   "metadata": {},
   "outputs": [
    {
     "data": {
      "text/plain": [
       "<Response [200]>"
      ]
     },
     "execution_count": 41,
     "metadata": {},
     "output_type": "execute_result"
    }
   ],
   "source": [
    "response"
   ]
  },
  {
   "cell_type": "code",
   "execution_count": 42,
   "metadata": {},
   "outputs": [],
   "source": [
    "# fetching the content from response usig beuatiful soup\n",
    "\n",
    "soup = BeautifulSoup(response.content, \"html.parser\") ## html parser is used to get the data in html form"
   ]
  },
  {
   "cell_type": "code",
   "execution_count": 43,
   "metadata": {},
   "outputs": [
    {
     "data": {
      "text/plain": [
       "[<img alt=\"Google\" class=\"kgJEQe\" src=\"/images/branding/searchlogo/1x/googlelogo_desk_heirloom_color_150x55dp.gif\"/>,\n",
       " <img alt=\"\" class=\"DS1iW\" src=\"https://encrypted-tbn0.gstatic.com/images?q=tbn:ANd9GcS6x-No6t83K_c9Fx4ITGLMFDTFySq5CmCo2SdN8hDyUdsHe5Nx2UA-LhS0iDw&amp;s\"/>,\n",
       " <img alt=\"\" class=\"DS1iW\" src=\"https://encrypted-tbn0.gstatic.com/images?q=tbn:ANd9GcQq8X0nLNaCzy7-IB3JuFXdBf8TU8Osb9_3kM_zz_nV_7K3F5pk8RPNXJHQB-M&amp;s\"/>,\n",
       " <img alt=\"\" class=\"DS1iW\" src=\"https://encrypted-tbn0.gstatic.com/images?q=tbn:ANd9GcTaETRQxZG-Ml-v2hmuNIcPHv0EZD2two1KZdCDGgwuEw72yWRvirqRlDZI4g&amp;s\"/>,\n",
       " <img alt=\"\" class=\"DS1iW\" src=\"https://encrypted-tbn0.gstatic.com/images?q=tbn:ANd9GcQZZDJScY-R6UhNUEWgr2I8tD6X1bKKQauiM57qDMBsguMijs6xi5BBo_Sc4g&amp;s\"/>,\n",
       " <img alt=\"\" class=\"DS1iW\" src=\"https://encrypted-tbn0.gstatic.com/images?q=tbn:ANd9GcT4UT3cx7CTpHGXUM96ph2wTEid2lsR010xBM_fJEsbyRzCtHEk9FFLsk01Cg&amp;s\"/>,\n",
       " <img alt=\"\" class=\"DS1iW\" src=\"https://encrypted-tbn0.gstatic.com/images?q=tbn:ANd9GcSux-rRpZ2_BoIAQa81t6_Z8Gvca1RVwF_kWFPEwnkv52-343sGdj-NkY6KCA&amp;s\"/>,\n",
       " <img alt=\"\" class=\"DS1iW\" src=\"https://encrypted-tbn0.gstatic.com/images?q=tbn:ANd9GcTBIu9o8umoojW9t0Or9cQtovz4ruKL3FDIcUfwwx2rlVgo7JFWaNfhcn7hMv4&amp;s\"/>,\n",
       " <img alt=\"\" class=\"DS1iW\" src=\"https://encrypted-tbn0.gstatic.com/images?q=tbn:ANd9GcSE8txyUeZL0HTN-A2Ntyue-_x6Ne4N3rZlujPQddPiXFg_DuVZWf9ZbxH8Nw&amp;s\"/>,\n",
       " <img alt=\"\" class=\"DS1iW\" src=\"https://encrypted-tbn0.gstatic.com/images?q=tbn:ANd9GcRCGEZAzUoACN-_aTzyDwPE03P0gSjTGz1oOnSjNvZ9GvdQaMN5FVMnw8SDAw&amp;s\"/>,\n",
       " <img alt=\"\" class=\"DS1iW\" src=\"https://encrypted-tbn0.gstatic.com/images?q=tbn:ANd9GcQXEidpwKTFttJc3ENfHKYOPlUBKrlyt9u-yCG606wa53fjZErvzNsL_UlLggw&amp;s\"/>,\n",
       " <img alt=\"\" class=\"DS1iW\" src=\"https://encrypted-tbn0.gstatic.com/images?q=tbn:ANd9GcSlh1lae-J2zsHU4T9Znmbf-jdd-8YM0D9eI26Q42dNHPACsglE_wQ80HnQ8Mg&amp;s\"/>,\n",
       " <img alt=\"\" class=\"DS1iW\" src=\"https://encrypted-tbn0.gstatic.com/images?q=tbn:ANd9GcSfJCgKATw23OgNQ8LdpiHjSnP3yxiXy6QNW-9TWcAjXjO-6SAk-o4p8is4ZfU&amp;s\"/>,\n",
       " <img alt=\"\" class=\"DS1iW\" src=\"https://encrypted-tbn0.gstatic.com/images?q=tbn:ANd9GcRtgfD3yoglz3OcCP9Slxhoor8fB3AT_v2YyZlH3s8XF0tK0nhMs7huLZrlgnU&amp;s\"/>,\n",
       " <img alt=\"\" class=\"DS1iW\" src=\"https://encrypted-tbn0.gstatic.com/images?q=tbn:ANd9GcR-g8CiaxxYelKMOikATkOgZre33vJuStWHF67j0sK2_SU6KFH4gBhsBBrAfw&amp;s\"/>,\n",
       " <img alt=\"\" class=\"DS1iW\" src=\"https://encrypted-tbn0.gstatic.com/images?q=tbn:ANd9GcS3R1aGEGS7JDq5Bx1f4txDZr6LmVWA98e_JEj34pk6B2OJXijenZeG_DdK&amp;s\"/>,\n",
       " <img alt=\"\" class=\"DS1iW\" src=\"https://encrypted-tbn0.gstatic.com/images?q=tbn:ANd9GcTGkYm-IGjc1cgmLt_NdH3BuIsZk1aFFn5xu-mAWGh_pZ8OMkKkp7xra_ehiRA&amp;s\"/>,\n",
       " <img alt=\"\" class=\"DS1iW\" src=\"https://encrypted-tbn0.gstatic.com/images?q=tbn:ANd9GcRr7DiDiKNBWtq-R4WOEjmMr6hDMxYEclwem2ul1MTIz8bPWkpPIZYSGnla1Qg&amp;s\"/>,\n",
       " <img alt=\"\" class=\"DS1iW\" src=\"https://encrypted-tbn0.gstatic.com/images?q=tbn:ANd9GcSApOD8cC7Jh33c0VqbcFkcmx0og9wr1DYsD50a8Tp3p-0I33M_SuuLXA0Kizk&amp;s\"/>,\n",
       " <img alt=\"\" class=\"DS1iW\" src=\"https://encrypted-tbn0.gstatic.com/images?q=tbn:ANd9GcR16LdPXxtZiwiopGSyguFbPanAqGHG96ag3EQT-g8GUkzvGGrKWZYPJoISJLI&amp;s\"/>,\n",
       " <img alt=\"\" class=\"DS1iW\" src=\"https://encrypted-tbn0.gstatic.com/images?q=tbn:ANd9GcQMzIq1yMrFHamuJKT8uT9Mws9uEpBjvIn9NcqQTjrjCVLYbHqNjuYlnSk4GDE&amp;s\"/>]"
      ]
     },
     "execution_count": 43,
     "metadata": {},
     "output_type": "execute_result"
    }
   ],
   "source": [
    "## fetch images from soup now\n",
    "\n",
    "image_tags = soup.find_all(\"img\")\n",
    "image_tags\n",
    "\n"
   ]
  },
  {
   "cell_type": "code",
   "execution_count": 44,
   "metadata": {},
   "outputs": [
    {
     "data": {
      "text/plain": [
       "[<img alt=\"\" class=\"DS1iW\" src=\"https://encrypted-tbn0.gstatic.com/images?q=tbn:ANd9GcS6x-No6t83K_c9Fx4ITGLMFDTFySq5CmCo2SdN8hDyUdsHe5Nx2UA-LhS0iDw&amp;s\"/>,\n",
       " <img alt=\"\" class=\"DS1iW\" src=\"https://encrypted-tbn0.gstatic.com/images?q=tbn:ANd9GcQq8X0nLNaCzy7-IB3JuFXdBf8TU8Osb9_3kM_zz_nV_7K3F5pk8RPNXJHQB-M&amp;s\"/>,\n",
       " <img alt=\"\" class=\"DS1iW\" src=\"https://encrypted-tbn0.gstatic.com/images?q=tbn:ANd9GcTaETRQxZG-Ml-v2hmuNIcPHv0EZD2two1KZdCDGgwuEw72yWRvirqRlDZI4g&amp;s\"/>,\n",
       " <img alt=\"\" class=\"DS1iW\" src=\"https://encrypted-tbn0.gstatic.com/images?q=tbn:ANd9GcQZZDJScY-R6UhNUEWgr2I8tD6X1bKKQauiM57qDMBsguMijs6xi5BBo_Sc4g&amp;s\"/>,\n",
       " <img alt=\"\" class=\"DS1iW\" src=\"https://encrypted-tbn0.gstatic.com/images?q=tbn:ANd9GcT4UT3cx7CTpHGXUM96ph2wTEid2lsR010xBM_fJEsbyRzCtHEk9FFLsk01Cg&amp;s\"/>,\n",
       " <img alt=\"\" class=\"DS1iW\" src=\"https://encrypted-tbn0.gstatic.com/images?q=tbn:ANd9GcSux-rRpZ2_BoIAQa81t6_Z8Gvca1RVwF_kWFPEwnkv52-343sGdj-NkY6KCA&amp;s\"/>,\n",
       " <img alt=\"\" class=\"DS1iW\" src=\"https://encrypted-tbn0.gstatic.com/images?q=tbn:ANd9GcTBIu9o8umoojW9t0Or9cQtovz4ruKL3FDIcUfwwx2rlVgo7JFWaNfhcn7hMv4&amp;s\"/>,\n",
       " <img alt=\"\" class=\"DS1iW\" src=\"https://encrypted-tbn0.gstatic.com/images?q=tbn:ANd9GcSE8txyUeZL0HTN-A2Ntyue-_x6Ne4N3rZlujPQddPiXFg_DuVZWf9ZbxH8Nw&amp;s\"/>,\n",
       " <img alt=\"\" class=\"DS1iW\" src=\"https://encrypted-tbn0.gstatic.com/images?q=tbn:ANd9GcRCGEZAzUoACN-_aTzyDwPE03P0gSjTGz1oOnSjNvZ9GvdQaMN5FVMnw8SDAw&amp;s\"/>,\n",
       " <img alt=\"\" class=\"DS1iW\" src=\"https://encrypted-tbn0.gstatic.com/images?q=tbn:ANd9GcQXEidpwKTFttJc3ENfHKYOPlUBKrlyt9u-yCG606wa53fjZErvzNsL_UlLggw&amp;s\"/>,\n",
       " <img alt=\"\" class=\"DS1iW\" src=\"https://encrypted-tbn0.gstatic.com/images?q=tbn:ANd9GcSlh1lae-J2zsHU4T9Znmbf-jdd-8YM0D9eI26Q42dNHPACsglE_wQ80HnQ8Mg&amp;s\"/>,\n",
       " <img alt=\"\" class=\"DS1iW\" src=\"https://encrypted-tbn0.gstatic.com/images?q=tbn:ANd9GcSfJCgKATw23OgNQ8LdpiHjSnP3yxiXy6QNW-9TWcAjXjO-6SAk-o4p8is4ZfU&amp;s\"/>,\n",
       " <img alt=\"\" class=\"DS1iW\" src=\"https://encrypted-tbn0.gstatic.com/images?q=tbn:ANd9GcRtgfD3yoglz3OcCP9Slxhoor8fB3AT_v2YyZlH3s8XF0tK0nhMs7huLZrlgnU&amp;s\"/>,\n",
       " <img alt=\"\" class=\"DS1iW\" src=\"https://encrypted-tbn0.gstatic.com/images?q=tbn:ANd9GcR-g8CiaxxYelKMOikATkOgZre33vJuStWHF67j0sK2_SU6KFH4gBhsBBrAfw&amp;s\"/>,\n",
       " <img alt=\"\" class=\"DS1iW\" src=\"https://encrypted-tbn0.gstatic.com/images?q=tbn:ANd9GcS3R1aGEGS7JDq5Bx1f4txDZr6LmVWA98e_JEj34pk6B2OJXijenZeG_DdK&amp;s\"/>,\n",
       " <img alt=\"\" class=\"DS1iW\" src=\"https://encrypted-tbn0.gstatic.com/images?q=tbn:ANd9GcTGkYm-IGjc1cgmLt_NdH3BuIsZk1aFFn5xu-mAWGh_pZ8OMkKkp7xra_ehiRA&amp;s\"/>,\n",
       " <img alt=\"\" class=\"DS1iW\" src=\"https://encrypted-tbn0.gstatic.com/images?q=tbn:ANd9GcRr7DiDiKNBWtq-R4WOEjmMr6hDMxYEclwem2ul1MTIz8bPWkpPIZYSGnla1Qg&amp;s\"/>,\n",
       " <img alt=\"\" class=\"DS1iW\" src=\"https://encrypted-tbn0.gstatic.com/images?q=tbn:ANd9GcSApOD8cC7Jh33c0VqbcFkcmx0og9wr1DYsD50a8Tp3p-0I33M_SuuLXA0Kizk&amp;s\"/>,\n",
       " <img alt=\"\" class=\"DS1iW\" src=\"https://encrypted-tbn0.gstatic.com/images?q=tbn:ANd9GcR16LdPXxtZiwiopGSyguFbPanAqGHG96ag3EQT-g8GUkzvGGrKWZYPJoISJLI&amp;s\"/>,\n",
       " <img alt=\"\" class=\"DS1iW\" src=\"https://encrypted-tbn0.gstatic.com/images?q=tbn:ANd9GcQMzIq1yMrFHamuJKT8uT9Mws9uEpBjvIn9NcqQTjrjCVLYbHqNjuYlnSk4GDE&amp;s\"/>]"
      ]
     },
     "execution_count": 44,
     "metadata": {},
     "output_type": "execute_result"
    }
   ],
   "source": [
    "# as we can see first link is not clickable, delete it\n",
    "\n",
    "del image_tags[0]\n",
    "image_tags\n"
   ]
  },
  {
   "cell_type": "code",
   "execution_count": 45,
   "metadata": {},
   "outputs": [
    {
     "name": "stdout",
     "output_type": "stream",
     "text": [
      "20\n"
     ]
    }
   ],
   "source": [
    "print(len(image_tags))"
   ]
  },
  {
   "cell_type": "code",
   "execution_count": 46,
   "metadata": {},
   "outputs": [
    {
     "name": "stdout",
     "output_type": "stream",
     "text": [
      "https://encrypted-tbn0.gstatic.com/images?q=tbn:ANd9GcS6x-No6t83K_c9Fx4ITGLMFDTFySq5CmCo2SdN8hDyUdsHe5Nx2UA-LhS0iDw&s\n",
      "https://encrypted-tbn0.gstatic.com/images?q=tbn:ANd9GcQq8X0nLNaCzy7-IB3JuFXdBf8TU8Osb9_3kM_zz_nV_7K3F5pk8RPNXJHQB-M&s\n",
      "https://encrypted-tbn0.gstatic.com/images?q=tbn:ANd9GcTaETRQxZG-Ml-v2hmuNIcPHv0EZD2two1KZdCDGgwuEw72yWRvirqRlDZI4g&s\n",
      "https://encrypted-tbn0.gstatic.com/images?q=tbn:ANd9GcQZZDJScY-R6UhNUEWgr2I8tD6X1bKKQauiM57qDMBsguMijs6xi5BBo_Sc4g&s\n",
      "https://encrypted-tbn0.gstatic.com/images?q=tbn:ANd9GcT4UT3cx7CTpHGXUM96ph2wTEid2lsR010xBM_fJEsbyRzCtHEk9FFLsk01Cg&s\n",
      "https://encrypted-tbn0.gstatic.com/images?q=tbn:ANd9GcSux-rRpZ2_BoIAQa81t6_Z8Gvca1RVwF_kWFPEwnkv52-343sGdj-NkY6KCA&s\n",
      "https://encrypted-tbn0.gstatic.com/images?q=tbn:ANd9GcTBIu9o8umoojW9t0Or9cQtovz4ruKL3FDIcUfwwx2rlVgo7JFWaNfhcn7hMv4&s\n",
      "https://encrypted-tbn0.gstatic.com/images?q=tbn:ANd9GcSE8txyUeZL0HTN-A2Ntyue-_x6Ne4N3rZlujPQddPiXFg_DuVZWf9ZbxH8Nw&s\n",
      "https://encrypted-tbn0.gstatic.com/images?q=tbn:ANd9GcRCGEZAzUoACN-_aTzyDwPE03P0gSjTGz1oOnSjNvZ9GvdQaMN5FVMnw8SDAw&s\n",
      "https://encrypted-tbn0.gstatic.com/images?q=tbn:ANd9GcQXEidpwKTFttJc3ENfHKYOPlUBKrlyt9u-yCG606wa53fjZErvzNsL_UlLggw&s\n",
      "https://encrypted-tbn0.gstatic.com/images?q=tbn:ANd9GcSlh1lae-J2zsHU4T9Znmbf-jdd-8YM0D9eI26Q42dNHPACsglE_wQ80HnQ8Mg&s\n",
      "https://encrypted-tbn0.gstatic.com/images?q=tbn:ANd9GcSfJCgKATw23OgNQ8LdpiHjSnP3yxiXy6QNW-9TWcAjXjO-6SAk-o4p8is4ZfU&s\n",
      "https://encrypted-tbn0.gstatic.com/images?q=tbn:ANd9GcRtgfD3yoglz3OcCP9Slxhoor8fB3AT_v2YyZlH3s8XF0tK0nhMs7huLZrlgnU&s\n",
      "https://encrypted-tbn0.gstatic.com/images?q=tbn:ANd9GcR-g8CiaxxYelKMOikATkOgZre33vJuStWHF67j0sK2_SU6KFH4gBhsBBrAfw&s\n",
      "https://encrypted-tbn0.gstatic.com/images?q=tbn:ANd9GcS3R1aGEGS7JDq5Bx1f4txDZr6LmVWA98e_JEj34pk6B2OJXijenZeG_DdK&s\n",
      "https://encrypted-tbn0.gstatic.com/images?q=tbn:ANd9GcTGkYm-IGjc1cgmLt_NdH3BuIsZk1aFFn5xu-mAWGh_pZ8OMkKkp7xra_ehiRA&s\n",
      "https://encrypted-tbn0.gstatic.com/images?q=tbn:ANd9GcRr7DiDiKNBWtq-R4WOEjmMr6hDMxYEclwem2ul1MTIz8bPWkpPIZYSGnla1Qg&s\n",
      "https://encrypted-tbn0.gstatic.com/images?q=tbn:ANd9GcSApOD8cC7Jh33c0VqbcFkcmx0og9wr1DYsD50a8Tp3p-0I33M_SuuLXA0Kizk&s\n",
      "https://encrypted-tbn0.gstatic.com/images?q=tbn:ANd9GcR16LdPXxtZiwiopGSyguFbPanAqGHG96ag3EQT-g8GUkzvGGrKWZYPJoISJLI&s\n",
      "https://encrypted-tbn0.gstatic.com/images?q=tbn:ANd9GcQMzIq1yMrFHamuJKT8uT9Mws9uEpBjvIn9NcqQTjrjCVLYbHqNjuYlnSk4GDE&s\n"
     ]
    }
   ],
   "source": [
    "# now we need to fetch all src to download image\n",
    "\n",
    "for i in image_tags:\n",
    "    print(i['src'])"
   ]
  },
  {
   "cell_type": "code",
   "execution_count": 38,
   "metadata": {},
   "outputs": [],
   "source": [
    "## download all  images \n",
    "\n",
    "for i in image_tags:\n",
    "    image_url = i['src']\n",
    "    image_data = requests.get(image_url).content   ## request.get() to gt individual image abd content is used to get the content from that url\n",
    "    ## write this image data in  image folder\n",
    "    with open(os.path.join(save_dir, f\"{query}_{image_tags.index(i)}.jpg\"), \"wb\") as f: ## wb mode because image in binary form \n",
    "    ## os.path.join is used to combine paths i.e. inside folder and than custom name t o images. image name is follow as name of query followed by number using index()\n",
    "        f.write(image_data)\n",
    "\n",
    "\n",
    " "
   ]
  },
  {
   "cell_type": "code",
   "execution_count": null,
   "metadata": {},
   "outputs": [],
   "source": []
  }
 ],
 "metadata": {
  "kernelspec": {
   "display_name": "Python 3 (ipykernel)",
   "language": "python",
   "name": "python3"
  },
  "language_info": {
   "codemirror_mode": {
    "name": "ipython",
    "version": 3
   },
   "file_extension": ".py",
   "mimetype": "text/x-python",
   "name": "python",
   "nbconvert_exporter": "python",
   "pygments_lexer": "ipython3",
   "version": "3.8.18"
  }
 },
 "nbformat": 4,
 "nbformat_minor": 4
}
